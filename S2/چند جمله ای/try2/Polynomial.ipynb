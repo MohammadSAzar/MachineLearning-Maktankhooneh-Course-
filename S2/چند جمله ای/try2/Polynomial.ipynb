{
 "cells": [
  {
   "cell_type": "markdown",
   "id": "c538269c-eb8c-4bd6-b0c1-4bbfe93872bc",
   "metadata": {},
   "source": [
    "# Polynomial (1 variables - deg3)"
   ]
  },
  {
   "cell_type": "markdown",
   "id": "5aefdb17-f569-4ccc-973b-a052043cb6a2",
   "metadata": {},
   "source": [
    "## Imports"
   ]
  },
  {
   "cell_type": "code",
   "execution_count": 35,
   "id": "4db7e9f4-8ada-4a15-84a9-616e14068b38",
   "metadata": {},
   "outputs": [],
   "source": [
    "import matplotlib.pyplot as plt\n",
    "import numpy as np\n",
    "import pandas as pd\n",
    "import pylab as pl\n",
    "%matplotlib inline"
   ]
  },
  {
   "cell_type": "markdown",
   "id": "45596f99-e4ca-40a0-8da4-d89c0204125c",
   "metadata": {},
   "source": [
    "## Reading Data"
   ]
  },
  {
   "cell_type": "code",
   "execution_count": 36,
   "id": "9f1e80fd-6b62-459d-8e2f-39dc7ee67929",
   "metadata": {},
   "outputs": [
    {
     "data": {
      "text/html": [
       "<div>\n",
       "<style scoped>\n",
       "    .dataframe tbody tr th:only-of-type {\n",
       "        vertical-align: middle;\n",
       "    }\n",
       "\n",
       "    .dataframe tbody tr th {\n",
       "        vertical-align: top;\n",
       "    }\n",
       "\n",
       "    .dataframe thead th {\n",
       "        text-align: right;\n",
       "    }\n",
       "</style>\n",
       "<table border=\"1\" class=\"dataframe\">\n",
       "  <thead>\n",
       "    <tr style=\"text-align: right;\">\n",
       "      <th></th>\n",
       "      <th>MODELYEAR</th>\n",
       "      <th>MAKE</th>\n",
       "      <th>MODEL</th>\n",
       "      <th>VEHICLECLASS</th>\n",
       "      <th>ENGINESIZE</th>\n",
       "      <th>CYLINDERS</th>\n",
       "      <th>TRANSMISSION</th>\n",
       "      <th>FUELTYPE</th>\n",
       "      <th>FUELCONSUMPTION_CITY</th>\n",
       "      <th>FUELCONSUMPTION_HWY</th>\n",
       "      <th>FUELCONSUMPTION_COMB</th>\n",
       "      <th>FUELCONSUMPTION_COMB_MPG</th>\n",
       "      <th>CO2EMISSIONS</th>\n",
       "    </tr>\n",
       "  </thead>\n",
       "  <tbody>\n",
       "    <tr>\n",
       "      <th>0</th>\n",
       "      <td>2014</td>\n",
       "      <td>ACURA</td>\n",
       "      <td>ILX</td>\n",
       "      <td>COMPACT</td>\n",
       "      <td>2.0</td>\n",
       "      <td>4</td>\n",
       "      <td>AS5</td>\n",
       "      <td>Z</td>\n",
       "      <td>9.9</td>\n",
       "      <td>6.7</td>\n",
       "      <td>8.5</td>\n",
       "      <td>33</td>\n",
       "      <td>196</td>\n",
       "    </tr>\n",
       "    <tr>\n",
       "      <th>1</th>\n",
       "      <td>2014</td>\n",
       "      <td>ACURA</td>\n",
       "      <td>ILX</td>\n",
       "      <td>COMPACT</td>\n",
       "      <td>2.4</td>\n",
       "      <td>4</td>\n",
       "      <td>M6</td>\n",
       "      <td>Z</td>\n",
       "      <td>11.2</td>\n",
       "      <td>7.7</td>\n",
       "      <td>9.6</td>\n",
       "      <td>29</td>\n",
       "      <td>221</td>\n",
       "    </tr>\n",
       "    <tr>\n",
       "      <th>2</th>\n",
       "      <td>2014</td>\n",
       "      <td>ACURA</td>\n",
       "      <td>ILX HYBRID</td>\n",
       "      <td>COMPACT</td>\n",
       "      <td>1.5</td>\n",
       "      <td>4</td>\n",
       "      <td>AV7</td>\n",
       "      <td>Z</td>\n",
       "      <td>6.0</td>\n",
       "      <td>5.8</td>\n",
       "      <td>5.9</td>\n",
       "      <td>48</td>\n",
       "      <td>136</td>\n",
       "    </tr>\n",
       "    <tr>\n",
       "      <th>3</th>\n",
       "      <td>2014</td>\n",
       "      <td>ACURA</td>\n",
       "      <td>MDX 4WD</td>\n",
       "      <td>SUV - SMALL</td>\n",
       "      <td>3.5</td>\n",
       "      <td>6</td>\n",
       "      <td>AS6</td>\n",
       "      <td>Z</td>\n",
       "      <td>12.7</td>\n",
       "      <td>9.1</td>\n",
       "      <td>11.1</td>\n",
       "      <td>25</td>\n",
       "      <td>255</td>\n",
       "    </tr>\n",
       "    <tr>\n",
       "      <th>4</th>\n",
       "      <td>2014</td>\n",
       "      <td>ACURA</td>\n",
       "      <td>RDX AWD</td>\n",
       "      <td>SUV - SMALL</td>\n",
       "      <td>3.5</td>\n",
       "      <td>6</td>\n",
       "      <td>AS6</td>\n",
       "      <td>Z</td>\n",
       "      <td>12.1</td>\n",
       "      <td>8.7</td>\n",
       "      <td>10.6</td>\n",
       "      <td>27</td>\n",
       "      <td>244</td>\n",
       "    </tr>\n",
       "  </tbody>\n",
       "</table>\n",
       "</div>"
      ],
      "text/plain": [
       "   MODELYEAR   MAKE       MODEL VEHICLECLASS  ENGINESIZE  CYLINDERS  \\\n",
       "0       2014  ACURA         ILX      COMPACT         2.0          4   \n",
       "1       2014  ACURA         ILX      COMPACT         2.4          4   \n",
       "2       2014  ACURA  ILX HYBRID      COMPACT         1.5          4   \n",
       "3       2014  ACURA     MDX 4WD  SUV - SMALL         3.5          6   \n",
       "4       2014  ACURA     RDX AWD  SUV - SMALL         3.5          6   \n",
       "\n",
       "  TRANSMISSION FUELTYPE  FUELCONSUMPTION_CITY  FUELCONSUMPTION_HWY  \\\n",
       "0          AS5        Z                   9.9                  6.7   \n",
       "1           M6        Z                  11.2                  7.7   \n",
       "2          AV7        Z                   6.0                  5.8   \n",
       "3          AS6        Z                  12.7                  9.1   \n",
       "4          AS6        Z                  12.1                  8.7   \n",
       "\n",
       "   FUELCONSUMPTION_COMB  FUELCONSUMPTION_COMB_MPG  CO2EMISSIONS  \n",
       "0                   8.5                        33           196  \n",
       "1                   9.6                        29           221  \n",
       "2                   5.9                        48           136  \n",
       "3                  11.1                        25           255  \n",
       "4                  10.6                        27           244  "
      ]
     },
     "execution_count": 36,
     "metadata": {},
     "output_type": "execute_result"
    }
   ],
   "source": [
    "df = pd.read_csv(\"FuelConsumption.csv\")\n",
    "df.describe()\n",
    "df.head()"
   ]
  },
  {
   "cell_type": "markdown",
   "id": "8b14fe85-37a1-4a9f-a033-65a308069cfb",
   "metadata": {},
   "source": [
    "## choose the cdf"
   ]
  },
  {
   "cell_type": "code",
   "execution_count": 37,
   "id": "fe8de260-e9c8-4742-a791-c5ee92b6cca2",
   "metadata": {},
   "outputs": [],
   "source": [
    "cdf = df[['FUELCONSUMPTION_COMB_MPG', 'CO2EMISSIONS']]"
   ]
  },
  {
   "cell_type": "markdown",
   "id": "911447f8-0acc-48f6-81ff-5d604cb8bfa3",
   "metadata": {},
   "source": [
    "## 80 - 20 data setting"
   ]
  },
  {
   "cell_type": "code",
   "execution_count": 38,
   "id": "f1fd9d78-e06a-4a21-8b40-b654ee3e1c6e",
   "metadata": {},
   "outputs": [
    {
     "name": "stdout",
     "output_type": "stream",
     "text": [
      "      FUELCONSUMPTION_COMB_MPG  CO2EMISSIONS\n",
      "0                           33           196\n",
      "1                           29           221\n",
      "3                           25           255\n",
      "5                           28           230\n",
      "6                           28           232\n",
      "...                        ...           ...\n",
      "1062                        24           271\n",
      "1063                        25           264\n",
      "1064                        24           271\n",
      "1065                        25           260\n",
      "1066                        22           294\n",
      "\n",
      "[868 rows x 2 columns]\n",
      "      FUELCONSUMPTION_COMB_MPG  CO2EMISSIONS\n",
      "2                           48           136\n",
      "4                           27           244\n",
      "11                          27           239\n",
      "18                          18           359\n",
      "21                          30           214\n",
      "...                        ...           ...\n",
      "1031                        30           216\n",
      "1034                        34           189\n",
      "1035                        34           189\n",
      "1050                        23           278\n",
      "1053                        26           246\n",
      "\n",
      "[199 rows x 2 columns]\n"
     ]
    }
   ],
   "source": [
    "msk = np.random.rand(len(df)) < 0.8\n",
    "train = cdf[msk]\n",
    "test = cdf[~msk]\n",
    "\n",
    "print(train)\n",
    "print(test)"
   ]
  },
  {
   "cell_type": "code",
   "execution_count": 24,
   "id": "7ca75c1b-4408-4dea-927a-e02bdd8062ac",
   "metadata": {},
   "outputs": [
    {
     "data": {
      "image/png": "[encoded data removed]",
      "text/plain": [
       "<Figure size 640x480 with 1 Axes>"
      ]
     },
     "metadata": {},
     "output_type": "display_data"
    }
   ],
   "source": [
    "fig = plt.figure()\n",
    "ax1 = fig.add_subplot(111)\n",
    "ax1.scatter(train.FUELCONSUMPTION_COMB_MPG, train.CO2EMISSIONS,color='red')\n",
    "ax1.scatter(test.FUELCONSUMPTION_COMB_MPG, test.CO2EMISSIONS, color='green')\n",
    "plt.xlabel('ّFuel Cons Comined MPG')\n",
    "plt.ylabel('CO2 Emission')\n",
    "plt.show()\n"
   ]
  },
  {
   "cell_type": "markdown",
   "id": "caec930d-610c-4c80-88ae-3c9067a20329",
   "metadata": {},
   "source": [
    "## Polynomial Regression >>>> Data Preparation"
   ]
  },
  {
   "cell_type": "code",
   "execution_count": 39,
   "id": "7d43df48-81f3-461e-9b0d-28c3ab7a52d7",
   "metadata": {},
   "outputs": [
    {
     "data": {
      "text/plain": [
       "array([[1.0000e+00, 3.3000e+01, 1.0890e+03, 3.5937e+04],\n",
       "       [1.0000e+00, 2.9000e+01, 8.4100e+02, 2.4389e+04],\n",
       "       [1.0000e+00, 2.5000e+01, 6.2500e+02, 1.5625e+04],\n",
       "       ...,\n",
       "       [1.0000e+00, 2.4000e+01, 5.7600e+02, 1.3824e+04],\n",
       "       [1.0000e+00, 2.5000e+01, 6.2500e+02, 1.5625e+04],\n",
       "       [1.0000e+00, 2.2000e+01, 4.8400e+02, 1.0648e+04]])"
      ]
     },
     "execution_count": 39,
     "metadata": {},
     "output_type": "execute_result"
    }
   ],
   "source": [
    "from sklearn.preprocessing import PolynomialFeatures\n",
    "\n",
    "train_x = np.asanyarray(train[['FUELCONSUMPTION_COMB_MPG']])\n",
    "train_y = np.asanyarray(train[['CO2EMISSIONS']])\n",
    "test_x = np.asanyarray(test[['FUELCONSUMPTION_COMB_MPG']])\n",
    "test_y = np.asanyarray(test[['CO2EMISSIONS']])\n",
    "\n",
    "poly = PolynomialFeatures(degree=3)\n",
    "train_x_poly = poly.fit_transform(train_x)\n",
    "\n",
    "train_x_poly"
   ]
  },
  {
   "cell_type": "code",
   "execution_count": 40,
   "id": "4caf1d75-d4af-45bd-936a-1ba0548f0e9c",
   "metadata": {},
   "outputs": [
    {
     "name": "stdout",
     "output_type": "stream",
     "text": [
      "Coefficients:  [[ 0.00000000e+00 -1.04427071e+01 -1.93984686e-02  1.48083590e-03]]\n",
      "Intercept:  [512.58109846]\n"
     ]
    }
   ],
   "source": [
    "from sklearn import linear_model\n",
    "\n",
    "clf = linear_model.LinearRegression()\n",
    "clf.fit(train_x_poly, train_y)\n",
    "\n",
    "print('Coefficients: ', clf.coef_)\n",
    "print('Intercept: ', clf.intercept_)"
   ]
  },
  {
   "cell_type": "markdown",
   "id": "b39eb7f9-eedf-4330-834a-07208abe8e61",
   "metadata": {},
   "source": [
    "# Evaluation (Prediction)"
   ]
  },
  {
   "cell_type": "code",
   "execution_count": 41,
   "id": "a2902d1e-fcb3-47e2-8a10-6357093672f0",
   "metadata": {},
   "outputs": [
    {
     "name": "stdout",
     "output_type": "stream",
     "text": [
      "MAE:  -0.6927404911115997\n",
      "Residual Sum of Squares:  595.6033177291382\n",
      "Variance Score: 0.8544178793534188\n"
     ]
    }
   ],
   "source": [
    "test_x_poly = poly.fit_transform(test_x)\n",
    "test_y_ = clf.predict(test_x_poly)\n",
    "\n",
    "\n",
    "print(\"MAE: \", np.mean(test_y_ - test_y))\n",
    "print(\"Residual Sum of Squares: \", np.mean((test_y_ - test_y)**2))\n",
    "print(\"Variance Score:\", clf.score(test_x_poly, test_y))"
   ]
  },
  {
   "cell_type": "code",
   "execution_count": null,
   "id": "28e22170-cfb0-48e1-ace2-c59ebe715444",
   "metadata": {},
   "outputs": [],
   "source": []
  }
 ],
 "metadata": {
  "kernelspec": {
   "display_name": "Python 3 (ipykernel)",
   "language": "python",
   "name": "python3"
  },
  "language_info": {
   "codemirror_mode": {
    "name": "ipython",
    "version": 3
   },
   "file_extension": ".py",
   "mimetype": "text/x-python",
   "name": "python",
   "nbconvert_exporter": "python",
   "pygments_lexer": "ipython3",
   "version": "3.10.4"
  }
 },
 "nbformat": 4,
 "nbformat_minor": 5
}
