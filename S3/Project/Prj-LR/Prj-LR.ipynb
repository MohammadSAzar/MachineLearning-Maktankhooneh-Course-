{
 "cells": [
  {
   "cell_type": "markdown",
   "id": "e69fc154-e0d0-4ebb-a077-a41d34a12572",
   "metadata": {},
   "source": [
    "# Imports"
   ]
  },
  {
   "cell_type": "code",
   "execution_count": 2,
   "id": "328f315e-c0fa-43fc-9374-3640bf4feeba",
   "metadata": {},
   "outputs": [],
   "source": [
    "import pandas as pd\n",
    "import pylab as pl\n",
    "import numpy as np\n",
    "from sklearn import preprocessing\n",
    "from sklearn import metrics\n",
    "from sklearn.model_selection import train_test_split\n",
    "import matplotlib.pyplot as plt\n",
    "%matplotlib inline "
   ]
  },
  {
   "cell_type": "markdown",
   "id": "7553b336-be71-46bb-8640-bbea211a6709",
   "metadata": {},
   "source": [
    "# The Dataset"
   ]
  },
  {
   "cell_type": "markdown",
   "id": "ae543fe5-06be-4278-b31a-35e817804920",
   "metadata": {},
   "source": [
    "### Read"
   ]
  },
  {
   "cell_type": "code",
   "execution_count": 12,
   "id": "2ea901f9-75d4-4c41-bf18-5a15bc71c6c9",
   "metadata": {},
   "outputs": [
    {
     "data": {
      "text/html": [
       "<div>\n",
       "<style scoped>\n",
       "    .dataframe tbody tr th:only-of-type {\n",
       "        vertical-align: middle;\n",
       "    }\n",
       "\n",
       "    .dataframe tbody tr th {\n",
       "        vertical-align: top;\n",
       "    }\n",
       "\n",
       "    .dataframe thead th {\n",
       "        text-align: right;\n",
       "    }\n",
       "</style>\n",
       "<table border=\"1\" class=\"dataframe\">\n",
       "  <thead>\n",
       "    <tr style=\"text-align: right;\">\n",
       "      <th></th>\n",
       "      <th>age</th>\n",
       "      <th>sex</th>\n",
       "      <th>cp</th>\n",
       "      <th>trtbps</th>\n",
       "      <th>chol</th>\n",
       "      <th>fbs</th>\n",
       "      <th>restecg</th>\n",
       "      <th>thalachh</th>\n",
       "      <th>exng</th>\n",
       "      <th>oldpeak</th>\n",
       "      <th>slp</th>\n",
       "      <th>caa</th>\n",
       "      <th>thall</th>\n",
       "      <th>output</th>\n",
       "    </tr>\n",
       "  </thead>\n",
       "  <tbody>\n",
       "    <tr>\n",
       "      <th>0</th>\n",
       "      <td>63</td>\n",
       "      <td>1</td>\n",
       "      <td>3</td>\n",
       "      <td>145</td>\n",
       "      <td>233</td>\n",
       "      <td>1</td>\n",
       "      <td>0</td>\n",
       "      <td>150</td>\n",
       "      <td>0</td>\n",
       "      <td>2.3</td>\n",
       "      <td>0</td>\n",
       "      <td>0</td>\n",
       "      <td>1</td>\n",
       "      <td>1</td>\n",
       "    </tr>\n",
       "    <tr>\n",
       "      <th>1</th>\n",
       "      <td>37</td>\n",
       "      <td>1</td>\n",
       "      <td>2</td>\n",
       "      <td>130</td>\n",
       "      <td>250</td>\n",
       "      <td>0</td>\n",
       "      <td>1</td>\n",
       "      <td>187</td>\n",
       "      <td>0</td>\n",
       "      <td>3.5</td>\n",
       "      <td>0</td>\n",
       "      <td>0</td>\n",
       "      <td>2</td>\n",
       "      <td>1</td>\n",
       "    </tr>\n",
       "    <tr>\n",
       "      <th>2</th>\n",
       "      <td>41</td>\n",
       "      <td>0</td>\n",
       "      <td>1</td>\n",
       "      <td>130</td>\n",
       "      <td>204</td>\n",
       "      <td>0</td>\n",
       "      <td>0</td>\n",
       "      <td>172</td>\n",
       "      <td>0</td>\n",
       "      <td>1.4</td>\n",
       "      <td>2</td>\n",
       "      <td>0</td>\n",
       "      <td>2</td>\n",
       "      <td>1</td>\n",
       "    </tr>\n",
       "    <tr>\n",
       "      <th>3</th>\n",
       "      <td>56</td>\n",
       "      <td>1</td>\n",
       "      <td>1</td>\n",
       "      <td>120</td>\n",
       "      <td>236</td>\n",
       "      <td>0</td>\n",
       "      <td>1</td>\n",
       "      <td>178</td>\n",
       "      <td>0</td>\n",
       "      <td>0.8</td>\n",
       "      <td>2</td>\n",
       "      <td>0</td>\n",
       "      <td>2</td>\n",
       "      <td>1</td>\n",
       "    </tr>\n",
       "    <tr>\n",
       "      <th>4</th>\n",
       "      <td>57</td>\n",
       "      <td>0</td>\n",
       "      <td>0</td>\n",
       "      <td>120</td>\n",
       "      <td>354</td>\n",
       "      <td>0</td>\n",
       "      <td>1</td>\n",
       "      <td>163</td>\n",
       "      <td>1</td>\n",
       "      <td>0.6</td>\n",
       "      <td>2</td>\n",
       "      <td>0</td>\n",
       "      <td>2</td>\n",
       "      <td>1</td>\n",
       "    </tr>\n",
       "  </tbody>\n",
       "</table>\n",
       "</div>"
      ],
      "text/plain": [
       "   age  sex  cp  trtbps  chol  fbs  restecg  thalachh  exng  oldpeak  slp  \\\n",
       "0   63    1   3     145   233    1        0       150     0      2.3    0   \n",
       "1   37    1   2     130   250    0        1       187     0      3.5    0   \n",
       "2   41    0   1     130   204    0        0       172     0      1.4    2   \n",
       "3   56    1   1     120   236    0        1       178     0      0.8    2   \n",
       "4   57    0   0     120   354    0        1       163     1      0.6    2   \n",
       "\n",
       "   caa  thall  output  \n",
       "0    0      1       1  \n",
       "1    0      2       1  \n",
       "2    0      2       1  \n",
       "3    0      2       1  \n",
       "4    0      2       1  "
      ]
     },
     "execution_count": 12,
     "metadata": {},
     "output_type": "execute_result"
    }
   ],
   "source": [
    "hrt_df = pd.read_csv(\"hearth.csv\")\n",
    "hrt_df.head()"
   ]
  },
  {
   "cell_type": "markdown",
   "id": "ecdc0801-720e-4e2b-8de5-c9ab96062bc8",
   "metadata": {},
   "source": [
    "### Select X , Y"
   ]
  },
  {
   "cell_type": "code",
   "execution_count": 13,
   "id": "fce39d2a-18ef-441a-8637-485a3b7c6119",
   "metadata": {},
   "outputs": [
    {
     "data": {
      "text/plain": [
       "array([1, 1, 1, 1, 1], dtype=int64)"
      ]
     },
     "execution_count": 13,
     "metadata": {},
     "output_type": "execute_result"
    }
   ],
   "source": [
    "hrt_df_x = np.asanyarray(hrt_df[['age', 'sex', 'cp', 'trtbps', 'chol', 'fbs', 'restecg', 'thalachh', 'exng', 'oldpeak', 'slp', 'caa', 'thall']])\n",
    "hrt_df_y = np.asanyarray(hrt_df['output'])\n",
    "\n",
    "#hrt_df_x[0:5]\n",
    "hrt_df_y[0:5]"
   ]
  },
  {
   "cell_type": "markdown",
   "id": "b6d121cc-bf3e-4f70-8a06-e7d85f0a380d",
   "metadata": {},
   "source": [
    "# LR (LogisticRegression)"
   ]
  },
  {
   "cell_type": "code",
   "execution_count": 14,
   "id": "ebe40cb8-b752-4753-9836-b4c1c8807ab9",
   "metadata": {},
   "outputs": [],
   "source": [
    "x_lr = hrt_df_x_norm\n",
    "y_lr = hrt_df_y"
   ]
  },
  {
   "cell_type": "markdown",
   "id": "ec4f5d40-061b-40aa-90db-bb82fb52cd1f",
   "metadata": {},
   "source": [
    "### Normalize"
   ]
  },
  {
   "cell_type": "code",
   "execution_count": 15,
   "id": "52d3b454-9093-4e70-810b-12a6503af158",
   "metadata": {},
   "outputs": [
    {
     "data": {
      "text/plain": [
       "array([[ 0.9521966 ,  0.68100522,  1.97312292,  0.76395577, -0.25633371,\n",
       "         2.394438  , -1.00583187,  0.01544279, -0.69663055,  1.08733806,\n",
       "        -2.27457861, -0.71442887, -2.14887271],\n",
       "       [-1.91531289,  0.68100522,  1.00257707, -0.09273778,  0.07219949,\n",
       "        -0.41763453,  0.89896224,  1.63347147, -0.69663055,  2.12257273,\n",
       "        -2.27457861, -0.71442887, -0.51292188],\n",
       "       [-1.47415758, -1.46841752,  0.03203122, -0.09273778, -0.81677269,\n",
       "        -0.41763453, -1.00583187,  0.97751389, -0.69663055,  0.31091206,\n",
       "         0.97635214, -0.71442887, -0.51292188],\n",
       "       [ 0.18017482,  0.68100522,  0.03203122, -0.66386682, -0.19835726,\n",
       "        -0.41763453,  0.89896224,  1.23989692, -0.69663055, -0.20670527,\n",
       "         0.97635214, -0.71442887, -0.51292188],\n",
       "       [ 0.29046364, -1.46841752, -0.93851463, -0.66386682,  2.08204965,\n",
       "        -0.41763453,  0.89896224,  0.58393935,  1.43548113, -0.37924438,\n",
       "         0.97635214, -0.71442887, -0.51292188]])"
      ]
     },
     "execution_count": 15,
     "metadata": {},
     "output_type": "execute_result"
    }
   ],
   "source": [
    "scaler = preprocessing.StandardScaler().fit(x_lr)\n",
    "x_lr_norm = scaler.transform(x_lr)\n",
    "x_lr_norm[0:5]"
   ]
  },
  {
   "cell_type": "markdown",
   "id": "cf9b4e71-93c1-4724-82a9-660fa1580624",
   "metadata": {},
   "source": [
    "### 80-20 Data Separation"
   ]
  },
  {
   "cell_type": "code",
   "execution_count": 16,
   "id": "57e90a94-1a02-4233-990e-1f9ef2b4eadd",
   "metadata": {},
   "outputs": [
    {
     "name": "stdout",
     "output_type": "stream",
     "text": [
      "Train set: (242, 13) (242,)\n",
      "Test set: (61, 13) (61,)\n"
     ]
    }
   ],
   "source": [
    "x_lr_norm_train, x_lr_norm_test, y_lr_train, y_lr_test = train_test_split(x_lr_norm, y_lr, test_size=0.2, random_state=4)\n",
    "print ('Train set:', x_lr_norm_train.shape,  y_lr_train.shape)\n",
    "print ('Test set:', x_lr_norm_test.shape,  y_lr_test.shape)"
   ]
  },
  {
   "cell_type": "markdown",
   "id": "78efd7b6-d03b-4629-b8b8-63b1f3502245",
   "metadata": {},
   "source": [
    "### Classification"
   ]
  },
  {
   "cell_type": "code",
   "execution_count": 34,
   "id": "d883a8d9-14ed-4c6f-bdb1-94576d62fa40",
   "metadata": {},
   "outputs": [
    {
     "name": "stdout",
     "output_type": "stream",
     "text": [
      "[1 0 1 1 1 1 0 1 1 1 1 1 1 0 1 0 1 1 0 1 1 1 0 1 1 0 0 1 1 0 0 1 1 1 1 1 1\n",
      " 1 1 0 0 0 0 1 1 1 0 0 0 1 0 1 0 1 1 1 1 1 0 0 1]\n",
      "[1 0 1 1 0 0 0 1 1 1 1 1 1 0 1 0 1 1 0 0 1 1 0 1 1 0 0 1 1 0 0 1 1 1 0 1 1\n",
      " 1 0 0 0 0 0 1 1 1 0 0 0 1 0 1 1 1 1 1 1 1 0 0 1]\n",
      "[[0.35294566 0.64705434]\n",
      " [0.70004992 0.29995008]\n",
      " [0.37869372 0.62130628]\n",
      " [0.1761531  0.8238469 ]\n",
      " [0.37722859 0.62277141]\n",
      " [0.47625734 0.52374266]\n",
      " [0.60768358 0.39231642]\n",
      " [0.21594784 0.78405216]\n",
      " [0.46826675 0.53173325]\n",
      " [0.34078284 0.65921716]\n",
      " [0.40345714 0.59654286]\n",
      " [0.18647407 0.81352593]\n",
      " [0.37064897 0.62935103]\n",
      " [0.54471694 0.45528306]\n",
      " [0.31055455 0.68944545]\n",
      " [0.84958133 0.15041867]\n",
      " [0.27351639 0.72648361]\n",
      " [0.2716512  0.7283488 ]\n",
      " [0.65826879 0.34173121]\n",
      " [0.43338158 0.56661842]\n",
      " [0.22383012 0.77616988]\n",
      " [0.36599003 0.63400997]\n",
      " [0.78899046 0.21100954]\n",
      " [0.43717181 0.56282819]\n",
      " [0.4262527  0.5737473 ]\n",
      " [0.73333576 0.26666424]\n",
      " [0.56590302 0.43409698]\n",
      " [0.210903   0.789097  ]\n",
      " [0.41266239 0.58733761]\n",
      " [0.78986911 0.21013089]\n",
      " [0.55833286 0.44166714]\n",
      " [0.47686501 0.52313499]\n",
      " [0.17395028 0.82604972]\n",
      " [0.34234477 0.65765523]\n",
      " [0.40983013 0.59016987]\n",
      " [0.22975705 0.77024295]\n",
      " [0.2311886  0.7688114 ]\n",
      " [0.38324825 0.61675175]\n",
      " [0.45878675 0.54121325]\n",
      " [0.81736531 0.18263469]\n",
      " [0.7797306  0.2202694 ]\n",
      " [0.67250128 0.32749872]\n",
      " [0.70116689 0.29883311]\n",
      " [0.3807103  0.6192897 ]\n",
      " [0.24401597 0.75598403]\n",
      " [0.38440368 0.61559632]\n",
      " [0.72106713 0.27893287]\n",
      " [0.502578   0.497422  ]\n",
      " [0.68110226 0.31889774]\n",
      " [0.30339671 0.69660329]\n",
      " [0.76359276 0.23640724]\n",
      " [0.42422644 0.57577356]\n",
      " [0.68534336 0.31465664]\n",
      " [0.4858942  0.5141058 ]\n",
      " [0.28571537 0.71428463]\n",
      " [0.11758168 0.88241832]\n",
      " [0.27351874 0.72648126]\n",
      " [0.25850855 0.74149145]\n",
      " [0.87126959 0.12873041]\n",
      " [0.73241658 0.26758342]\n",
      " [0.20324892 0.79675108]]\n"
     ]
    }
   ],
   "source": [
    "from sklearn.linear_model import LogisticRegression\n",
    "\n",
    "lr = LogisticRegression(C=0.01, solver='saga').fit(x_lr_norm_train, y_lr_train)\n",
    "y_ = lr.predict(x_lr_norm_test)\n",
    "y_prob = lr.predict_proba(x_lr_norm_test)\n",
    "\n",
    "print(y_)\n",
    "print(y_lr_test)\n",
    "print(y_prob)"
   ]
  },
  {
   "cell_type": "markdown",
   "id": "a39f22fd-9811-454f-bb45-a6c9cd8417d8",
   "metadata": {},
   "source": [
    "### Evaluation"
   ]
  },
  {
   "cell_type": "code",
   "execution_count": 18,
   "id": "a0801a6c-b9dc-4b75-9a51-a1409ff64fbd",
   "metadata": {},
   "outputs": [],
   "source": [
    "from sklearn.metrics import confusion_matrix, jaccard_score, classification_report"
   ]
  },
  {
   "cell_type": "code",
   "execution_count": 35,
   "id": "07e0cc57-eb0d-4b3e-b98f-f480e7577c1d",
   "metadata": {},
   "outputs": [
    {
     "data": {
      "text/plain": [
       "0.7692307692307693"
      ]
     },
     "execution_count": 35,
     "metadata": {},
     "output_type": "execute_result"
    }
   ],
   "source": [
    "jaccard_score(y_lr_test, y_, pos_label=0)"
   ]
  },
  {
   "cell_type": "code",
   "execution_count": 36,
   "id": "4b7f9975-3dfe-4f6a-884b-0a15592636c6",
   "metadata": {},
   "outputs": [
    {
     "name": "stdout",
     "output_type": "stream",
     "text": [
      "[[35  1]\n",
      " [ 5 20]]\n"
     ]
    }
   ],
   "source": [
    "print(confusion_matrix(y_lr_test, y_, labels=[1,0]))"
   ]
  },
  {
   "cell_type": "code",
   "execution_count": 37,
   "id": "0599b4ff-b7da-46d5-9cc7-134654273d4f",
   "metadata": {},
   "outputs": [
    {
     "name": "stdout",
     "output_type": "stream",
     "text": [
      "              precision    recall  f1-score   support\n",
      "\n",
      "           0       0.95      0.80      0.87        25\n",
      "           1       0.88      0.97      0.92        36\n",
      "\n",
      "    accuracy                           0.90        61\n",
      "   macro avg       0.91      0.89      0.90        61\n",
      "weighted avg       0.91      0.90      0.90        61\n",
      "\n"
     ]
    }
   ],
   "source": [
    "print (classification_report(y_lr_test, y_))"
   ]
  },
  {
   "cell_type": "markdown",
   "id": "edf905fc-415a-487e-a184-fc2dfb0d8cd5",
   "metadata": {},
   "source": [
    "# RC (RidgeClassifier)"
   ]
  },
  {
   "cell_type": "code",
   "execution_count": 48,
   "id": "1343e54a-0dc1-40b3-8be8-6ae837c77ac1",
   "metadata": {},
   "outputs": [
    {
     "name": "stdout",
     "output_type": "stream",
     "text": [
      "[1 0 1 1 1 1 0 1 1 1 1 1 1 0 1 0 1 1 0 1 1 1 0 1 1 0 0 1 1 0 0 1 1 1 1 1 1\n",
      " 1 1 0 0 0 0 1 1 1 0 0 0 1 0 1 0 1 1 1 1 1 0 0 1]\n",
      "[1 0 1 1 0 0 0 1 1 1 1 1 1 0 1 0 1 1 0 0 1 1 0 1 1 0 0 1 1 0 0 1 1 1 0 1 1\n",
      " 1 0 0 0 0 0 1 1 1 0 0 0 1 0 1 1 1 1 1 1 1 0 0 1]\n",
      "[[0.35294566 0.64705434]\n",
      " [0.70004992 0.29995008]\n",
      " [0.37869372 0.62130628]\n",
      " [0.1761531  0.8238469 ]\n",
      " [0.37722859 0.62277141]\n",
      " [0.47625734 0.52374266]\n",
      " [0.60768358 0.39231642]\n",
      " [0.21594784 0.78405216]\n",
      " [0.46826675 0.53173325]\n",
      " [0.34078284 0.65921716]\n",
      " [0.40345714 0.59654286]\n",
      " [0.18647407 0.81352593]\n",
      " [0.37064897 0.62935103]\n",
      " [0.54471694 0.45528306]\n",
      " [0.31055455 0.68944545]\n",
      " [0.84958133 0.15041867]\n",
      " [0.27351639 0.72648361]\n",
      " [0.2716512  0.7283488 ]\n",
      " [0.65826879 0.34173121]\n",
      " [0.43338158 0.56661842]\n",
      " [0.22383012 0.77616988]\n",
      " [0.36599003 0.63400997]\n",
      " [0.78899046 0.21100954]\n",
      " [0.43717181 0.56282819]\n",
      " [0.4262527  0.5737473 ]\n",
      " [0.73333576 0.26666424]\n",
      " [0.56590302 0.43409698]\n",
      " [0.210903   0.789097  ]\n",
      " [0.41266239 0.58733761]\n",
      " [0.78986911 0.21013089]\n",
      " [0.55833286 0.44166714]\n",
      " [0.47686501 0.52313499]\n",
      " [0.17395028 0.82604972]\n",
      " [0.34234477 0.65765523]\n",
      " [0.40983013 0.59016987]\n",
      " [0.22975705 0.77024295]\n",
      " [0.2311886  0.7688114 ]\n",
      " [0.38324825 0.61675175]\n",
      " [0.45878675 0.54121325]\n",
      " [0.81736531 0.18263469]\n",
      " [0.7797306  0.2202694 ]\n",
      " [0.67250128 0.32749872]\n",
      " [0.70116689 0.29883311]\n",
      " [0.3807103  0.6192897 ]\n",
      " [0.24401597 0.75598403]\n",
      " [0.38440368 0.61559632]\n",
      " [0.72106713 0.27893287]\n",
      " [0.502578   0.497422  ]\n",
      " [0.68110226 0.31889774]\n",
      " [0.30339671 0.69660329]\n",
      " [0.76359276 0.23640724]\n",
      " [0.42422644 0.57577356]\n",
      " [0.68534336 0.31465664]\n",
      " [0.4858942  0.5141058 ]\n",
      " [0.28571537 0.71428463]\n",
      " [0.11758168 0.88241832]\n",
      " [0.27351874 0.72648126]\n",
      " [0.25850855 0.74149145]\n",
      " [0.87126959 0.12873041]\n",
      " [0.73241658 0.26758342]\n",
      " [0.20324892 0.79675108]]\n"
     ]
    }
   ],
   "source": [
    "from sklearn.linear_model import RidgeClassifier\n",
    "\n",
    "rc = RidgeClassifier(alpha=1, solver='sparse_cg').fit(x_lr_norm_train, y_lr_train)\n",
    "y_rc = lr.predict(x_lr_norm_test)\n",
    "y_prob_rc = lr.predict_proba(x_lr_norm_test)\n",
    "\n",
    "print(y_rc)\n",
    "print(y_lr_test)\n",
    "print(y_prob_rc)"
   ]
  },
  {
   "cell_type": "markdown",
   "id": "8f158563-3263-4592-8a1d-e271df089909",
   "metadata": {},
   "source": [
    "### Evaluation"
   ]
  },
  {
   "cell_type": "code",
   "execution_count": 49,
   "id": "95565de3-9557-4d91-9458-72eecbf12d6b",
   "metadata": {},
   "outputs": [
    {
     "name": "stdout",
     "output_type": "stream",
     "text": [
      "0.7692307692307693\n",
      "[[35  1]\n",
      " [ 5 20]]\n",
      "              precision    recall  f1-score   support\n",
      "\n",
      "           0       0.95      0.80      0.87        25\n",
      "           1       0.88      0.97      0.92        36\n",
      "\n",
      "    accuracy                           0.90        61\n",
      "   macro avg       0.91      0.89      0.90        61\n",
      "weighted avg       0.91      0.90      0.90        61\n",
      "\n"
     ]
    }
   ],
   "source": [
    "print(jaccard_score(y_lr_test, y_rc, pos_label=0))\n",
    "print(confusion_matrix(y_lr_test, y_rc, labels=[1,0]))\n",
    "print (classification_report(y_lr_test, y_rc))"
   ]
  },
  {
   "cell_type": "code",
   "execution_count": null,
   "id": "6695676f-3fa3-4c66-b588-df1af17abcfb",
   "metadata": {},
   "outputs": [],
   "source": []
  },
  {
   "cell_type": "code",
   "execution_count": null,
   "id": "af46bfda-3028-4ffd-a724-d694b8ab61a0",
   "metadata": {},
   "outputs": [],
   "source": []
  },
  {
   "cell_type": "code",
   "execution_count": null,
   "id": "cd3f05e4-1734-4abe-9304-a0a76a6797da",
   "metadata": {},
   "outputs": [],
   "source": []
  },
  {
   "cell_type": "code",
   "execution_count": null,
   "id": "5e748e8f-7068-423b-b409-205ab4294db5",
   "metadata": {},
   "outputs": [],
   "source": []
  },
  {
   "cell_type": "code",
   "execution_count": null,
   "id": "205b7670-c0da-4448-89f5-46e9dc672c81",
   "metadata": {},
   "outputs": [],
   "source": []
  },
  {
   "cell_type": "code",
   "execution_count": null,
   "id": "e1830cd9-b313-4967-9f79-0f568562c32a",
   "metadata": {},
   "outputs": [],
   "source": []
  },
  {
   "cell_type": "code",
   "execution_count": null,
   "id": "8a42e565-05b9-4433-b3b3-ed2341405df9",
   "metadata": {},
   "outputs": [],
   "source": []
  }
 ],
 "metadata": {
  "kernelspec": {
   "display_name": "Python 3 (ipykernel)",
   "language": "python",
   "name": "python3"
  },
  "language_info": {
   "codemirror_mode": {
    "name": "ipython",
    "version": 3
   },
   "file_extension": ".py",
   "mimetype": "text/x-python",
   "name": "python",
   "nbconvert_exporter": "python",
   "pygments_lexer": "ipython3",
   "version": "3.10.4"
  }
 },
 "nbformat": 4,
 "nbformat_minor": 5
}
